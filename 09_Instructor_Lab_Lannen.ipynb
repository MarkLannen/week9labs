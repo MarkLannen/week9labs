{
 "cells": [
  {
   "cell_type": "markdown",
   "id": "6488456b-4bf4-4035-b501-9d9c3cdb9358",
   "metadata": {},
   "source": [
    "# 09 Instructor Led Lab  \n",
    "\n",
    "Author: Mark Lannen  \n",
    "Course: BGEN632 Grad. Intro. to Python  \n",
    "Term: Spring 2025"
   ]
  },
  {
   "cell_type": "markdown",
   "id": "cc9299c0-0dba-4516-bb84-9df0191bb73d",
   "metadata": {},
   "source": [
    "## Prep Data and Add A New Record"
   ]
  },
  {
   "cell_type": "code",
   "execution_count": 12,
   "id": "03d4632e-29c1-464f-83b8-789ceafe7293",
   "metadata": {},
   "outputs": [
    {
     "name": "stdout",
     "output_type": "stream",
     "text": [
      "Index(['HospitalID', 'Name', 'Zip', 'Website', 'TypeControl', 'Teaching',\n",
      "       'DonorType', 'NoFTE', 'NetPatRev', 'InOperExp', 'OutOperExp', 'OperRev',\n",
      "       'OperInc', 'AvlBeds'],\n",
      "      dtype='object')\n",
      "Index(['HospitalID', 'Work_ID', 'LastName', 'FirstName', 'Gender',\n",
      "       'PositionID', 'PositionTitle', 'Compensation', 'MaxTerm', 'StartDate',\n",
      "       'Phone', 'Email'],\n",
      "      dtype='object')\n"
     ]
    }
   ],
   "source": [
    "# Merge the two data files. Remove the following columns of data:\n",
    "# * `Work_ID`\n",
    "# * `PositionID`\n",
    "# * `Website`\n",
    "\n",
    "import pandas as pd\n",
    "import os\n",
    "\n",
    "#Set working directory and load the data\n",
    "os.chdir(\"/Users/markl1/Documents/Studies/Grad_School-MBA/Spring_2025/Python/week9labs/data\")\n",
    "\n",
    "#import both files. Add sep='\\t' as I wasn't able to merge w/o it.\n",
    "hospital_data = pd.read_csv('CaliforniaHospitalData.csv')\n",
    "personnel_data = pd.read_csv('CaliforniaHospitalData_Personnel.txt', sep='\\t')\n",
    "\n",
    "#check columns as I was getting a key error\n",
    "print(hospital_data.columns)\n",
    "print(personnel_data.columns)\n",
    "\n",
    "# hospital_data, personnel_data\n",
    "\n",
    "# merge two tables on HospitalID key\n",
    "merged_data = pd.merge(hospital_data, personnel_data, on='HospitalID')\n",
    "\n",
    "# drop specified columns\n",
    "merged_data = merged_data.drop(columns=['Work_ID', 'PositionID', 'Website'])"
   ]
  },
  {
   "cell_type": "code",
   "execution_count": null,
   "id": "66a11ac9-5be3-484f-8b08-6512dc353f3e",
   "metadata": {},
   "outputs": [],
   "source": []
  },
  {
   "cell_type": "code",
   "execution_count": null,
   "id": "73d86688-e6f9-4f74-a39b-890a73256250",
   "metadata": {},
   "outputs": [],
   "source": []
  }
 ],
 "metadata": {
  "kernelspec": {
   "display_name": "Python 3 (ipykernel)",
   "language": "python",
   "name": "python3"
  },
  "language_info": {
   "codemirror_mode": {
    "name": "ipython",
    "version": 3
   },
   "file_extension": ".py",
   "mimetype": "text/x-python",
   "name": "python",
   "nbconvert_exporter": "python",
   "pygments_lexer": "ipython3",
   "version": "3.12.7"
  }
 },
 "nbformat": 4,
 "nbformat_minor": 5
}
