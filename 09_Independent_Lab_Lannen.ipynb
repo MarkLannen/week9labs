{
 "cells": [
  {
   "cell_type": "markdown",
   "id": "514e90fc-89fa-495c-9a10-64da93c2fff5",
   "metadata": {},
   "source": [
    "# 09 Independent Lab\n",
    "Author: Mark Lannen  \n",
    "Course: BGEN632 Grad. Intro. to Python  \n",
    "Term: Spring 2025"
   ]
  },
  {
   "cell_type": "code",
   "execution_count": null,
   "id": "b6514874-3689-4ac4-b633-3a69c3995faa",
   "metadata": {},
   "outputs": [],
   "source": []
  }
 ],
 "metadata": {
  "kernelspec": {
   "display_name": "Python 3 (ipykernel)",
   "language": "python",
   "name": "python3"
  },
  "language_info": {
   "codemirror_mode": {
    "name": "ipython",
    "version": 3
   },
   "file_extension": ".py",
   "mimetype": "text/x-python",
   "name": "python",
   "nbconvert_exporter": "python",
   "pygments_lexer": "ipython3",
   "version": "3.12.7"
  }
 },
 "nbformat": 4,
 "nbformat_minor": 5
}
