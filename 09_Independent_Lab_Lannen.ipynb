{
 "cells": [
  {
   "cell_type": "markdown",
   "id": "514e90fc-89fa-495c-9a10-64da93c2fff5",
   "metadata": {},
   "source": [
    "# 09 Independent Lab\n",
    "Author: Mark Lannen  \n",
    "Course: BGEN632 Grad. Intro. to Python  \n",
    "Term: Spring 2025"
   ]
  },
  {
   "cell_type": "markdown",
   "id": "925da837-b7e6-4a9e-9f54-8ab4d89de4e4",
   "metadata": {},
   "source": [
    "## import pandas and os, set working directory and assign 'data' variable to specified data file"
   ]
  },
  {
   "cell_type": "code",
   "execution_count": 3,
   "id": "b6514874-3689-4ac4-b633-3a69c3995faa",
   "metadata": {},
   "outputs": [
    {
     "ename": "SyntaxError",
     "evalue": "invalid syntax. Perhaps you forgot a comma? (2431622059.py, line 13)",
     "output_type": "error",
     "traceback": [
      "\u001b[0;36m  Cell \u001b[0;32mIn[3], line 13\u001b[0;36m\u001b[0m\n\u001b[0;31m    df = pd.read_csv('ect_data.txt' sep='\\t', quotechar='\"')\u001b[0m\n\u001b[0m                     ^\u001b[0m\n\u001b[0;31mSyntaxError\u001b[0m\u001b[0;31m:\u001b[0m invalid syntax. Perhaps you forgot a comma?\n"
     ]
    }
   ],
   "source": [
    "# load modules\n",
    "import os\n",
    "import pandas as pd\n",
    "import statsmodels.formula.api as smf # ols regression\n",
    "\n",
    "os.getcwd()\n",
    "os.chdir('/Users/markl1/Documents/Studies/Grad_School-MBA/Spring_2025/Python/week9labs/data')\n",
    "\n",
    "print(df.shape)\n",
    "print(df.head())\n",
    "\n",
    "\n",
    "df = pd.read_csv('ect_data.txt' sep='\\t', quotechar='\"')\n",
    "df"
   ]
  },
  {
   "cell_type": "code",
   "execution_count": null,
   "id": "9b433371-1bf3-49e1-b13e-d23fbd60a01a",
   "metadata": {},
   "outputs": [],
   "source": []
  },
  {
   "cell_type": "code",
   "execution_count": null,
   "id": "d52aadd5-9aed-43d0-bcdf-05523ad7daf8",
   "metadata": {},
   "outputs": [],
   "source": []
  }
 ],
 "metadata": {
  "kernelspec": {
   "display_name": "Python 3 (ipykernel)",
   "language": "python",
   "name": "python3"
  },
  "language_info": {
   "codemirror_mode": {
    "name": "ipython",
    "version": 3
   },
   "file_extension": ".py",
   "mimetype": "text/x-python",
   "name": "python",
   "nbconvert_exporter": "python",
   "pygments_lexer": "ipython3",
   "version": "3.12.7"
  }
 },
 "nbformat": 4,
 "nbformat_minor": 5
}
