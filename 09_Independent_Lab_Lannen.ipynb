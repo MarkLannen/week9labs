{
 "cells": [
  {
   "cell_type": "markdown",
   "id": "514e90fc-89fa-495c-9a10-64da93c2fff5",
   "metadata": {},
   "source": [
    "# 09 Independent Lab\n",
    "Author: Mark Lannen  \n",
    "Course: BGEN632 Grad. Intro. to Python  \n",
    "Term: Spring 2025"
   ]
  },
  {
   "cell_type": "markdown",
   "id": "925da837-b7e6-4a9e-9f54-8ab4d89de4e4",
   "metadata": {},
   "source": [
    "import pandas and os, set working directory and assign 'data' variable to specified data file"
   ]
  },
  {
   "cell_type": "code",
   "execution_count": 7,
   "id": "b6514874-3689-4ac4-b633-3a69c3995faa",
   "metadata": {},
   "outputs": [
    {
     "data": {
      "text/html": [
       "<div>\n",
       "<style scoped>\n",
       "    .dataframe tbody tr th:only-of-type {\n",
       "        vertical-align: middle;\n",
       "    }\n",
       "\n",
       "    .dataframe tbody tr th {\n",
       "        vertical-align: top;\n",
       "    }\n",
       "\n",
       "    .dataframe thead th {\n",
       "        text-align: right;\n",
       "    }\n",
       "</style>\n",
       "<table border=\"1\" class=\"dataframe\">\n",
       "  <thead>\n",
       "    <tr style=\"text-align: right;\">\n",
       "      <th></th>\n",
       "      <th>attitude1_01\\t\"attitude1_02\"\\t\"attitude1_03\"\\t\"attitude1_04\"\\t\"intent1_01\"\\t\"intent1_02\"\\t\"intent1_03\"\\t\"intent1_04\"\\t\"peruse01\"\\t\"peruse02\"\\t\"peruse03\"\\t\"peruse04\"\\t\"satis01\"\\t\"satis02\"\\t\"satis03\"\\t\"satis04\"</th>\n",
       "    </tr>\n",
       "  </thead>\n",
       "  <tbody>\n",
       "    <tr>\n",
       "      <th>0</th>\n",
       "      <td>6\\t6\\t6\\t6\\t6\\t6\\t6\\t6\\t6\\t4\\t5\\t5\\t5\\t5\\t5\\t5</td>\n",
       "    </tr>\n",
       "    <tr>\n",
       "      <th>1</th>\n",
       "      <td>7\\t7\\t7\\t7\\t7\\t7\\t7\\t7\\t7\\t7\\t7\\t7\\t7\\t6\\t6\\t6</td>\n",
       "    </tr>\n",
       "    <tr>\n",
       "      <th>2</th>\n",
       "      <td>6\\t6\\t6\\t6\\t7\\t7\\t7\\t7\\t6\\t5\\t5\\t5\\t5\\t5\\t5\\t5</td>\n",
       "    </tr>\n",
       "    <tr>\n",
       "      <th>3</th>\n",
       "      <td>7\\t7\\t7\\t7\\t6\\t6\\t7\\t6\\t5\\t5\\t5\\t5\\t7\\t6\\t7\\t6</td>\n",
       "    </tr>\n",
       "    <tr>\n",
       "      <th>4</th>\n",
       "      <td>7\\t7\\t6\\t6\\t7\\t7\\t7\\t6\\t6\\t6\\t7\\t7\\t6\\t6\\t6\\t6</td>\n",
       "    </tr>\n",
       "    <tr>\n",
       "      <th>...</th>\n",
       "      <td>...</td>\n",
       "    </tr>\n",
       "    <tr>\n",
       "      <th>196</th>\n",
       "      <td>6\\t6\\t6\\t7\\t7\\t6\\t7\\t6\\t6\\t5\\t5\\t5\\t6\\t6\\t6\\t5</td>\n",
       "    </tr>\n",
       "    <tr>\n",
       "      <th>197</th>\n",
       "      <td>5\\t6\\t6\\t6\\t7\\t7\\t7\\t7\\t7\\t7\\t6\\t6\\t6\\t4\\t4\\t6</td>\n",
       "    </tr>\n",
       "    <tr>\n",
       "      <th>198</th>\n",
       "      <td>6\\t5\\t6\\t6\\t5\\t6\\t6\\t5\\t6\\t5\\t6\\t5\\t5\\t5\\t6\\t5</td>\n",
       "    </tr>\n",
       "    <tr>\n",
       "      <th>199</th>\n",
       "      <td>6\\t6\\t6\\t6\\t6\\t7\\t6\\t6\\t6\\t6\\t7\\t7\\t5\\t5\\t6\\t5</td>\n",
       "    </tr>\n",
       "    <tr>\n",
       "      <th>200</th>\n",
       "      <td>7\\t7\\t6\\t7\\t7\\t7\\t7\\t7\\t7\\t7\\t7\\t7\\t7\\t7\\t7\\t7</td>\n",
       "    </tr>\n",
       "  </tbody>\n",
       "</table>\n",
       "<p>201 rows × 1 columns</p>\n",
       "</div>"
      ],
      "text/plain": [
       "    attitude1_01\\t\"attitude1_02\"\\t\"attitude1_03\"\\t\"attitude1_04\"\\t\"intent1_01\"\\t\"intent1_02\"\\t\"intent1_03\"\\t\"intent1_04\"\\t\"peruse01\"\\t\"peruse02\"\\t\"peruse03\"\\t\"peruse04\"\\t\"satis01\"\\t\"satis02\"\\t\"satis03\"\\t\"satis04\"\n",
       "0       6\\t6\\t6\\t6\\t6\\t6\\t6\\t6\\t6\\t4\\t5\\t5\\t5\\t5\\t5\\t5                                                                                                                                                              \n",
       "1       7\\t7\\t7\\t7\\t7\\t7\\t7\\t7\\t7\\t7\\t7\\t7\\t7\\t6\\t6\\t6                                                                                                                                                              \n",
       "2       6\\t6\\t6\\t6\\t7\\t7\\t7\\t7\\t6\\t5\\t5\\t5\\t5\\t5\\t5\\t5                                                                                                                                                              \n",
       "3       7\\t7\\t7\\t7\\t6\\t6\\t7\\t6\\t5\\t5\\t5\\t5\\t7\\t6\\t7\\t6                                                                                                                                                              \n",
       "4       7\\t7\\t6\\t6\\t7\\t7\\t7\\t6\\t6\\t6\\t7\\t7\\t6\\t6\\t6\\t6                                                                                                                                                              \n",
       "..                                                 ...                                                                                                                                                              \n",
       "196     6\\t6\\t6\\t7\\t7\\t6\\t7\\t6\\t6\\t5\\t5\\t5\\t6\\t6\\t6\\t5                                                                                                                                                              \n",
       "197     5\\t6\\t6\\t6\\t7\\t7\\t7\\t7\\t7\\t7\\t6\\t6\\t6\\t4\\t4\\t6                                                                                                                                                              \n",
       "198     6\\t5\\t6\\t6\\t5\\t6\\t6\\t5\\t6\\t5\\t6\\t5\\t5\\t5\\t6\\t5                                                                                                                                                              \n",
       "199     6\\t6\\t6\\t6\\t6\\t7\\t6\\t6\\t6\\t6\\t7\\t7\\t5\\t5\\t6\\t5                                                                                                                                                              \n",
       "200     7\\t7\\t6\\t7\\t7\\t7\\t7\\t7\\t7\\t7\\t7\\t7\\t7\\t7\\t7\\t7                                                                                                                                                              \n",
       "\n",
       "[201 rows x 1 columns]"
      ]
     },
     "execution_count": 7,
     "metadata": {},
     "output_type": "execute_result"
    }
   ],
   "source": [
    "import pandas as pd\n",
    "import os\n",
    "import numpy as np\n",
    "import matplotlib.pyplot as plt\n",
    "import scipy.stats as sts # for QQ plot\n",
    "from scipy.stats import pearsonr # correlation p-values\n",
    "from sklearn.linear_model import LinearRegression # regression output\n",
    "import statsmodels.formula.api as smf # ols regression\n",
    "\n",
    "os.getcwd()\n",
    "os.chdir('/Users/markl1/Documents/Studies/Grad_School-MBA/Spring_2025/Python/week9labs/data')\n",
    "\n",
    "data = pd.read_csv('ect_data.txt')\n",
    "data"
   ]
  },
  {
   "cell_type": "code",
   "execution_count": null,
   "id": "9b433371-1bf3-49e1-b13e-d23fbd60a01a",
   "metadata": {},
   "outputs": [],
   "source": []
  }
 ],
 "metadata": {
  "kernelspec": {
   "display_name": "Python 3 (ipykernel)",
   "language": "python",
   "name": "python3"
  },
  "language_info": {
   "codemirror_mode": {
    "name": "ipython",
    "version": 3
   },
   "file_extension": ".py",
   "mimetype": "text/x-python",
   "name": "python",
   "nbconvert_exporter": "python",
   "pygments_lexer": "ipython3",
   "version": "3.12.7"
  }
 },
 "nbformat": 4,
 "nbformat_minor": 5
}
